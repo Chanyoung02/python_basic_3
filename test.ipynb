{
 "cells": [
  {
   "cell_type": "code",
   "execution_count": 176,
   "id": "dac5f63c-7f47-4968-8107-71b788ace513",
   "metadata": {},
   "outputs": [],
   "source": [
    "import pandas as pd\n",
    "import numpy as np"
   ]
  },
  {
   "cell_type": "code",
   "execution_count": 177,
   "id": "51be431b-37e6-4997-87a6-27f484dd066e",
   "metadata": {},
   "outputs": [],
   "source": [
    "# # 10.\n",
    "# data2 =  {'이름' : ['철수', '영희', '민수', '지영'], \n",
    "# '나이' : [25, 30, 22, 28], \n",
    "# '성별' : ['남자', '여자', '남자', '여자'] }\n",
    "\n",
    "# pd.DataFrame(data2)\n"
   ]
  },
  {
   "cell_type": "code",
   "execution_count": 178,
   "id": "c12555f7-2c78-4d34-b5d2-80d1812309ac",
   "metadata": {},
   "outputs": [],
   "source": [
    "# data3 = {'col1': ['a' , 'b' , 'c'] , 'col2' : [1,2,3]}\n",
    "# df3 = pd.DataFrame(data3)\n",
    "# pd.DataFrame(data3)\n"
   ]
  },
  {
   "cell_type": "code",
   "execution_count": 179,
   "id": "3a31cc0b-1c9d-4a87-8ad1-858feee8aeda",
   "metadata": {},
   "outputs": [],
   "source": [
    "# data4 = {'col1': ['a' , 'b' , 'f'] , 'col2' : [10,20,30]}\n",
    "# df4 = pd.DataFrame(data4)\n",
    "# pd.DataFrame(data4)"
   ]
  },
  {
   "cell_type": "code",
   "execution_count": 180,
   "id": "2b1ca2d9-6b37-4849-a40d-0e3bb018b46a",
   "metadata": {},
   "outputs": [],
   "source": [
    "# pd.concat([df3,df4])"
   ]
  },
  {
   "cell_type": "code",
   "execution_count": 181,
   "id": "0212f602-2ab3-43dd-9e2d-cf388b5e1594",
   "metadata": {},
   "outputs": [],
   "source": [
    "# pd.merge(df3,df4, left_on='col1', right_on='col3' , how='outer')"
   ]
  },
  {
   "cell_type": "code",
   "execution_count": 182,
   "id": "9101989e-88da-42d0-babf-1dd180ae98fd",
   "metadata": {
    "scrolled": true
   },
   "outputs": [],
   "source": [
    "# df5 = {'name' : ['철수','영희','민수','지영'] , 'score' : [75,88,92,68]}\n",
    "# df6 = pd.DataFrame(df5)\n",
    "# avg_score = df6['score'].mean()\n",
    "# above_average = df6[df6['score'] > avg_score]\n",
    "# above_average"
   ]
  },
  {
   "cell_type": "code",
   "execution_count": 183,
   "id": "88a3ae1a-1a78-4eb9-9df7-bf0aba19ced3",
   "metadata": {},
   "outputs": [],
   "source": [
    "# import pandas as pd\n",
    "# data = {'name': ['철수', '영희', None, '지영'], 'score': [75, 88, None, 68]}\n",
    "# df = pd.DataFrame(data)\n",
    "# result = df.isna()\n",
    "# print(result)"
   ]
  },
  {
   "cell_type": "code",
   "execution_count": 184,
   "id": "fb985a4f-ff90-496c-bc96-86fca2bc9eef",
   "metadata": {},
   "outputs": [],
   "source": [
    "# data = {'col1' : [1,2,3] , 'col2' : [4,5,6] }\n",
    "# df = pd.DataFrame(data)\n",
    "# df.apply(lambda row: row['col1'] + row['col2'], axis=\"columns\")"
   ]
  },
  {
   "cell_type": "code",
   "execution_count": 185,
   "id": "f316ed1a-856b-4dd2-a148-d11bc93fed09",
   "metadata": {},
   "outputs": [],
   "source": [
    "# data =  {'name' : ['철수', '영희', '민수'], \n",
    "# 'score' : [75, 88, 92] }\n",
    "# df = pd.DataFrame(data)"
   ]
  },
  {
   "cell_type": "code",
   "execution_count": 186,
   "id": "ec747e8a-fd4c-436d-9d9e-a01fc9e122ff",
   "metadata": {},
   "outputs": [],
   "source": [
    "# data1 =  {'name' : ['영희', '철수', '지영','다현'], \n",
    "# 'attendence_rate' : [90, 90, 95, 85] }\n",
    "# df1 = pd.DataFrame(data1)"
   ]
  },
  {
   "cell_type": "code",
   "execution_count": 187,
   "id": "daf3b03e-0d97-4d87-b734-5a0a6be56bb5",
   "metadata": {},
   "outputs": [],
   "source": [
    "# df3 = pd.merge(df, df1, how=\"inner\")\n",
    "# df3"
   ]
  },
  {
   "cell_type": "code",
   "execution_count": 188,
   "id": "dc127771-2920-4c0d-8489-55452354b89b",
   "metadata": {},
   "outputs": [],
   "source": [
    "#  import pandas as pd\n",
    "#  # 두 개의 데이터프레임 생성\n",
    "# left = pd.DataFrame({'key': ['K0', 'K1', 'K2'],\n",
    "#                      'A': ['A0', 'A1', 'A2']})\n",
    "# right = pd.DataFrame({'key': ['K0', 'K1', 'K2'],\n",
    "#                       'B': ['B0', 'B1', 'B2']})\n",
    "#  # 여기에 코드를 작성하세요\n",
    "# result = pd.merge(left, right, on='key', how='inner')\n",
    "# print(result)"
   ]
  },
  {
   "cell_type": "code",
   "execution_count": 189,
   "id": "ccbfb15e-610c-418a-86d9-c9c73eba19e7",
   "metadata": {},
   "outputs": [],
   "source": [
    "# data = {'학생' : ['철수','영희','민수'] , '성적' :[80,75,90] }\n",
    "# new_student_scores = { '학생' : ['지영'] ,'성적' : [85]}\n",
    "\n",
    "# df = pd.DataFrame(data)\n",
    "# df2 = pd.DataFrame(new_student_scores)"
   ]
  },
  {
   "cell_type": "code",
   "execution_count": 190,
   "id": "f6c4253f-6874-4dfb-9bf4-d2289b306106",
   "metadata": {},
   "outputs": [],
   "source": [
    "# dataframe_list = [df,df2]\n",
    "# result = pd.concat(dataframe_list, ignore_index=True)\n",
    "# result"
   ]
  },
  {
   "cell_type": "code",
   "execution_count": 191,
   "id": "1d82c916-2a00-4f58-8d5d-2a59ee0a235f",
   "metadata": {},
   "outputs": [],
   "source": [
    "# merged_df = pd.merge(df,df2, how='outer')\n",
    "# merged_df"
   ]
  },
  {
   "cell_type": "code",
   "execution_count": 201,
   "id": "6072a5e5-e5d5-48a0-9316-1d6781bcfb0c",
   "metadata": {},
   "outputs": [],
   "source": [
    "# df1 = pd.DataFrame ( [[1,4],[2,5],[3,6]],\n",
    "#                     index = [\"X\", \"Y\" , \"Z\"],\n",
    "#                     columns=[\"A\",\"B\"])\n",
    "# df1"
   ]
  },
  {
   "cell_type": "code",
   "execution_count": 202,
   "id": "5c1a43f6-98ae-4d6d-a7d1-b81b176001a3",
   "metadata": {},
   "outputs": [],
   "source": [
    "# df2 = pd.DataFrame ( [[7,10],[8,11],[9,12]],\n",
    "#                     index = [\"X\", \"Y\" , \"Z\"],\n",
    "#                     columns=[\"C\",\"D\"])\n",
    "# df2"
   ]
  },
  {
   "cell_type": "code",
   "execution_count": 203,
   "id": "e2a1a1ba-73ec-4ffa-8b32-6aa201ef4576",
   "metadata": {},
   "outputs": [],
   "source": [
    "# s = pd.DataFrame ( [[13],[14],[15]],\n",
    "#                     index = [\"X\", \"Y\" , \"Z\"],\n",
    "#                     columns=[\"E\"])\n",
    "# s"
   ]
  },
  {
   "cell_type": "code",
   "execution_count": 204,
   "id": "fb607018-22af-4bc0-808f-02c8760817a6",
   "metadata": {},
   "outputs": [],
   "source": [
    "\n",
    "# result = pd.concat([df1, df2 , s] , axis=\"columns\")\n",
    "# result"
   ]
  },
  {
   "cell_type": "code",
   "execution_count": 213,
   "id": "25cde3eb-c6c5-47ba-8477-652741d58494",
   "metadata": {},
   "outputs": [
    {
     "data": {
      "text/html": [
       "<div>\n",
       "<style scoped>\n",
       "    .dataframe tbody tr th:only-of-type {\n",
       "        vertical-align: middle;\n",
       "    }\n",
       "\n",
       "    .dataframe tbody tr th {\n",
       "        vertical-align: top;\n",
       "    }\n",
       "\n",
       "    .dataframe thead th {\n",
       "        text-align: right;\n",
       "    }\n",
       "</style>\n",
       "<table border=\"1\" class=\"dataframe\">\n",
       "  <thead>\n",
       "    <tr style=\"text-align: right;\">\n",
       "      <th></th>\n",
       "      <th>이름</th>\n",
       "      <th>국어</th>\n",
       "      <th>영어</th>\n",
       "      <th>수학</th>\n",
       "      <th>총점</th>\n",
       "    </tr>\n",
       "  </thead>\n",
       "  <tbody>\n",
       "    <tr>\n",
       "      <th>0</th>\n",
       "      <td>철수</td>\n",
       "      <td>90</td>\n",
       "      <td>85</td>\n",
       "      <td>75</td>\n",
       "      <td>250</td>\n",
       "    </tr>\n",
       "    <tr>\n",
       "      <th>1</th>\n",
       "      <td>영희</td>\n",
       "      <td>80</td>\n",
       "      <td>95</td>\n",
       "      <td>80</td>\n",
       "      <td>255</td>\n",
       "    </tr>\n",
       "    <tr>\n",
       "      <th>2</th>\n",
       "      <td>민수</td>\n",
       "      <td>85</td>\n",
       "      <td>70</td>\n",
       "      <td>90</td>\n",
       "      <td>245</td>\n",
       "    </tr>\n",
       "  </tbody>\n",
       "</table>\n",
       "</div>"
      ],
      "text/plain": [
       "   이름  국어  영어  수학   총점\n",
       "0  철수  90  85  75  250\n",
       "1  영희  80  95  80  255\n",
       "2  민수  85  70  90  245"
      ]
     },
     "execution_count": 213,
     "metadata": {},
     "output_type": "execute_result"
    }
   ],
   "source": [
    "data = { '이름' : ['철수', '영희', '민수'],\n",
    "                   '국어' : [90,80,85],\n",
    "                   '영어' : [85,95,70],\n",
    "                   '수학' : [75,80,90] }\n",
    "df = pd.DataFrame(data)\n",
    "df\n",
    "\n",
    "\n",
    "df['총점'] = df.apply(lambda row: row['국어'] + row['영어'] + row['수학'], axis=1)\n",
    "df"
   ]
  },
  {
   "cell_type": "code",
   "execution_count": 217,
   "id": "73c38817-12df-4187-82c5-7acabe019f21",
   "metadata": {},
   "outputs": [
    {
     "name": "stdout",
     "output_type": "stream",
     "text": [
      "     이름    국어         영어         수학     총점\n",
      "0    철수  90.0  85.000000  75.000000  250.0\n",
      "1    영희  80.0  95.000000  80.000000  255.0\n",
      "2    민수  85.0  70.000000  90.000000  245.0\n",
      "평균  NaN  85.0  83.333333  81.666667  250.0\n"
     ]
    }
   ],
   "source": [
    "df.loc['평균'] = df.iloc[:, 1:].apply(lambda x: x.mean())\n",
    "\n",
    "print(df)"
   ]
  },
  {
   "cell_type": "code",
   "execution_count": null,
   "id": "1c0bc3e9-848e-4963-8423-4cdf5852dca3",
   "metadata": {},
   "outputs": [],
   "source": []
  }
 ],
 "metadata": {
  "kernelspec": {
   "display_name": "Python 3 (ipykernel)",
   "language": "python",
   "name": "python3"
  },
  "language_info": {
   "codemirror_mode": {
    "name": "ipython",
    "version": 3
   },
   "file_extension": ".py",
   "mimetype": "text/x-python",
   "name": "python",
   "nbconvert_exporter": "python",
   "pygments_lexer": "ipython3",
   "version": "3.11.2"
  }
 },
 "nbformat": 4,
 "nbformat_minor": 5
}
