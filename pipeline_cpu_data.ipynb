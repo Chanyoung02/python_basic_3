{
 "cells": [
  {
   "cell_type": "code",
   "execution_count": 14,
   "id": "d6213efb-6167-4eda-aaa4-da278cf1c4c7",
   "metadata": {},
   "outputs": [],
   "source": [
    "import pandas as pd\n",
    "import numpy as np\n",
    "import matplotlib.pyplot as plt\n",
    "import seaborn as sns\n",
    "from sklearn.model_selection import train_test_split, GridSearchCV, cross_val_score\n",
    "from sklearn.pipeline import Pipeline\n",
    "from sklearn.preprocessing import StandardScaler, PolynomialFeatures\n",
    "from sklearn.linear_model import LinearRegression, Ridge\n",
    "from sklearn.ensemble import RandomForestRegressor, VotingRegressor\n",
    "from sklearn.metrics import mean_squared_error, mean_absolute_error, r2_score"
   ]
  },
  {
   "cell_type": "code",
   "execution_count": null,
   "id": "ad3f8d91-65f1-4a44-b7c7-ff803bc506ce",
   "metadata": {},
   "outputs": [],
   "source": [
    "# 데이터 불러오기\n",
    "url = \"https://archive.ics.uci.edu/ml/machine-learning-databases/cpu-performance/machine.data\"\n",
    "column_names = ['Vendor name', 'Model name', 'MYCT', 'MMIN', 'MMAX', 'CACH', 'CHMIN', 'CHMAX', 'PRP', 'ERP']\n",
    "data = pd.read_csv(url, names=column_names)\n",
    "\n",
    "# 데이터 탐색 및 전처리\n",
    "data = data.drop(columns=['Vendor name', 'Model name', 'ERP'])  # 불필요한 컬럼 제거\n",
    "\n",
    "# 데이터 시각화\n",
    "sns.pairplot(data)\n",
    "plt.show()"
   ]
  },
  {
   "cell_type": "code",
   "execution_count": null,
   "id": "cab0238a-be79-42a1-b71a-702d43748007",
   "metadata": {},
   "outputs": [],
   "source": [
    "# 특징 변수(X)와 타겟 변수(y) 설정\n",
    "X = data.drop(columns='PRP')\n",
    "y = data['PRP']\n",
    "\n",
    "# 훈련 데이터와 테스트 데이터 분리\n",
    "X_train, X_test, y_train, y_test = train_test_split(X, y, test_size=0.2, random_state=42)"
   ]
  },
  {
   "cell_type": "code",
   "execution_count": 10,
   "id": "b86a177a-ec88-4f0d-b3c4-596a41176009",
   "metadata": {},
   "outputs": [],
   "source": [
    "# Pipeline 기반 다중 회귀 모델 정의\n",
    "pipeline = Pipeline([\n",
    "    ('scaler', StandardScaler()),\n",
    "    ('poly', PolynomialFeatures(degree=2)),\n",
    "    ('regressor', LinearRegression())\n",
    "])"
   ]
  },
  {
   "cell_type": "code",
   "execution_count": 11,
   "id": "8f1ab943-abcd-4b27-942e-5c77f5f682e3",
   "metadata": {},
   "outputs": [],
   "source": [
    "# 하이퍼파라미터 튜닝을 위한 GridSearchCV 설정\n",
    "param_grid = {\n",
    "    'poly__degree': [1, 2, 3],\n",
    "    'regressor': [LinearRegression(), Ridge()]\n",
    "}\n",
    "\n",
    "grid_search = GridSearchCV(pipeline, param_grid, cv=5, scoring='r2')\n",
    "grid_search.fit(X_train, y_train)\n",
    "# 최적 모델 선택\n",
    "best_model = grid_search.best_estimator_"
   ]
  },
  {
   "cell_type": "code",
   "execution_count": 12,
   "id": "12d69f3c-80f4-41f9-be26-947e7bec3fb6",
   "metadata": {},
   "outputs": [
    {
     "ename": "NameError",
     "evalue": "name 'cross_val_score' is not defined",
     "output_type": "error",
     "traceback": [
      "\u001b[1;31m---------------------------------------------------------------------------\u001b[0m",
      "\u001b[1;31mNameError\u001b[0m                                 Traceback (most recent call last)",
      "Cell \u001b[1;32mIn[12], line 14\u001b[0m\n\u001b[0;32m     11\u001b[0m test_r2 \u001b[38;5;241m=\u001b[39m r2_score(y_test, y_test_pred)\n\u001b[0;32m     13\u001b[0m \u001b[38;5;66;03m# 교차 검증 점수\u001b[39;00m\n\u001b[1;32m---> 14\u001b[0m cv_scores \u001b[38;5;241m=\u001b[39m \u001b[43mcross_val_score\u001b[49m(best_model, X_train, y_train, cv\u001b[38;5;241m=\u001b[39m\u001b[38;5;241m5\u001b[39m, scoring\u001b[38;5;241m=\u001b[39m\u001b[38;5;124m'\u001b[39m\u001b[38;5;124mr2\u001b[39m\u001b[38;5;124m'\u001b[39m)\n\u001b[0;32m     15\u001b[0m mean_cv_score \u001b[38;5;241m=\u001b[39m np\u001b[38;5;241m.\u001b[39mmean(cv_scores)\n\u001b[0;32m     17\u001b[0m \u001b[38;5;66;03m# 성능 지표 출력\u001b[39;00m\n",
      "\u001b[1;31mNameError\u001b[0m: name 'cross_val_score' is not defined"
     ]
    }
   ],
   "source": [
    "# 학습 데이터 성능 평가\n",
    "y_train_pred = best_model.predict(X_train)\n",
    "train_mse = mean_squared_error(y_train, y_train_pred)\n",
    "train_mae = mean_absolute_error(y_train, y_train_pred)\n",
    "train_r2 = r2_score(y_train, y_train_pred)\n",
    "\n",
    "# 테스트 데이터 성능 평가\n",
    "y_test_pred = best_model.predict(X_test)\n",
    "test_mse = mean_squared_error(y_test, y_test_pred)\n",
    "test_mae = mean_absolute_error(y_test, y_test_pred)\n",
    "test_r2 = r2_score(y_test, y_test_pred)\n",
    "\n",
    "# 교차 검증 점수\n",
    "cv_scores = cross_val_score(best_model, X_train, y_train, cv=5, scoring='r2')\n",
    "mean_cv_score = np.mean(cv_scores)\n",
    "\n",
    "# 성능 지표 출력\n",
    "print(f\"Train MSE: {train_mse}\")\n",
    "print(f\"Train MAE: {train_mae}\")\n",
    "print(f\"Train R^2: {train_r2}\")\n",
    "print(f\"Test MSE: {test_mse}\")\n",
    "print(f\"Test MAE: {test_mae}\")\n",
    "print(f\"Test R^2: {test_r2}\")\n",
    "print(f\"Mean Cross-validated R^2: {mean_cv_score}\")"
   ]
  },
  {
   "cell_type": "code",
   "execution_count": null,
   "id": "fd99b3df-a4eb-4ba7-a88b-ad83b3935513",
   "metadata": {},
   "outputs": [],
   "source": [
    "# 모델 성능 개선 (앙상블 학습)\n",
    "ensemble_model = VotingRegressor(estimators=[\n",
    "    ('lr', LinearRegression()),\n",
    "    ('ridge', Ridge()),\n",
    "    ('rf', RandomForestRegressor(n_estimators=100, random_state=42))\n",
    "])\n",
    "ensemble_model.fit(X_train, y_train)\n",
    "\n",
    "# 앙상블 모델 테스트 데이터 성능 평가\n",
    "y_test_pred_ensemble = ensemble_model.predict(X_test)\n",
    "ensemble_test_r2 = r2_score(y_test, y_test_pred_ensemble)\n",
    "\n",
    "print(f\"Ensemble Test R^2: {ensemble_test_r2}\")"
   ]
  },
  {
   "cell_type": "code",
   "execution_count": null,
   "id": "ef8f7431-a2b7-4114-9058-1e2d765a16fd",
   "metadata": {},
   "outputs": [],
   "source": [
    "# 4. 성능 지표 데이터프레임에 저장 및 시각화\n",
    "results = {\n",
    "    'Model': ['Baseline Model', 'Pipeline Model', 'Ensemble Model'],\n",
    "    'Train MSE': [None, train_mse, None],\n",
    "    'Test MSE': [None, test_mse, None],\n",
    "    'Train MAE': [None, train_mae, None],\n",
    "    'Test MAE': [None, test_mae, None],\n",
    "    'Train R^2': [None, train_r2, None],\n",
    "    'Test R^2': [None, test_r2, ensemble_test_r2],\n",
    "    'Mean CV R^2': [None, mean_cv_score, None]\n",
    "}\n",
    "\n",
    "results_df = pd.DataFrame(results)\n",
    "results_df.set_index('Model', inplace=True)\n",
    "results_df.plot(kind='bar', figsize=(12, 8))\n",
    "plt.title('Model Performance Comparison')\n",
    "plt.ylabel('Scores')\n",
    "plt.show()\n",
    "\n",
    "# 성능 결과 데이터프레임 출력\n",
    "print(results_df)"
   ]
  },
  {
   "cell_type": "code",
   "execution_count": null,
   "id": "6445c075-226f-4424-9db3-a938c7234a7a",
   "metadata": {},
   "outputs": [],
   "source": []
  }
 ],
 "metadata": {
  "kernelspec": {
   "display_name": "Python 3 (ipykernel)",
   "language": "python",
   "name": "python3"
  },
  "language_info": {
   "codemirror_mode": {
    "name": "ipython",
    "version": 3
   },
   "file_extension": ".py",
   "mimetype": "text/x-python",
   "name": "python",
   "nbconvert_exporter": "python",
   "pygments_lexer": "ipython3",
   "version": "3.11.2"
  }
 },
 "nbformat": 4,
 "nbformat_minor": 5
}
